{
 "cells": [
  {
   "cell_type": "code",
   "execution_count": 1,
   "metadata": {
    "collapsed": true
   },
   "outputs": [],
   "source": [
    "#utility functions to make life easier\n",
    "import glob"
   ]
  },
  {
   "cell_type": "code",
   "execution_count": 9,
   "metadata": {
    "collapsed": false
   },
   "outputs": [
    {
     "name": "stdout",
     "output_type": "stream",
     "text": [
      "data/example_csv.csv\n",
      "data/example_kml.kml\n",
      "data/example_modified.txt\n",
      "data/example_output.csv\n",
      "data/example_text.txt\n",
      "data/feed.xml\n",
      "data/pcw06_denoyer_mxdbg.ppt\n",
      "data/xml_to_json.json\n"
     ]
    }
   ],
   "source": [
    "for name in glob.glob(\"data/*\"):\n",
    "    print(name)"
   ]
  },
  {
   "cell_type": "code",
   "execution_count": 10,
   "metadata": {
    "collapsed": false
   },
   "outputs": [
    {
     "name": "stdout",
     "output_type": "stream",
     "text": [
      "data/example_csv.csv\n",
      "data/example_output.csv\n"
     ]
    }
   ],
   "source": [
    "#single character wildcard\n",
    "for name in glob.glob(\"data/example*.csv\"):\n",
    "    print(name)"
   ]
  },
  {
   "cell_type": "code",
   "execution_count": 2,
   "metadata": {
    "collapsed": true
   },
   "outputs": [],
   "source": [
    "#monitor file changes in dir\n",
    "#SAS log analysis \n",
    "import watchdog\n",
    "#Python library and shell utilities to monitor filesystem events."
   ]
  },
  {
   "cell_type": "code",
   "execution_count": 5,
   "metadata": {
    "collapsed": false
   },
   "outputs": [],
   "source": [
    "#run following code in command line\n",
    "# import sys\n",
    "# import time\n",
    "# import logging\n",
    "# from watchdog.observers import Observer\n",
    "# from watchdog.events import LoggingEventHandler\n",
    "\n",
    "# if __name__ == \"__main__\":\n",
    "#     logging.basicConfig(level=logging.INFO,\n",
    "#                         format='%(asctime)s - %(message)s',\n",
    "#                         datefmt='%Y-%m-%d %H:%M:%S')\n",
    "#     path = sys.argv[1] if len(sys.argv) > 1 else '.'\n",
    "#     event_handler = LoggingEventHandler()\n",
    "#     observer = Observer()\n",
    "#     observer.schedule(event_handler, path, recursive=True)\n",
    "#     observer.start()\n",
    "#     try:\n",
    "#         while True:\n",
    "#             time.sleep(1)\n",
    "#     except KeyboardInterrupt:\n",
    "#         observer.stop()\n",
    "#     observer.join()"
   ]
  },
  {
   "cell_type": "code",
   "execution_count": 9,
   "metadata": {
    "collapsed": false
   },
   "outputs": [
    {
     "data": {
      "text/plain": [
       "'darwin'"
      ]
     },
     "execution_count": 9,
     "metadata": {},
     "output_type": "execute_result"
    }
   ],
   "source": [
    "import sys\n",
    "sys.platform"
   ]
  },
  {
   "cell_type": "code",
   "execution_count": 12,
   "metadata": {
    "collapsed": false
   },
   "outputs": [
    {
     "data": {
      "text/plain": [
       "['/Library/Frameworks/Python.framework/Versions/3.5/lib/python3.5/site-packages/ipykernel/__main__.py',\n",
       " '-f',\n",
       " '/Users/zhibozeng/Library/Jupyter/runtime/kernel-be88cc37-208b-4a5e-ae90-6d3c76eaa2f8.json']"
      ]
     },
     "execution_count": 12,
     "metadata": {},
     "output_type": "execute_result"
    }
   ],
   "source": [
    "sys.argv ##ipython notebook using the dir"
   ]
  },
  {
   "cell_type": "code",
   "execution_count": 2,
   "metadata": {
    "collapsed": false
   },
   "outputs": [],
   "source": [
    "import os \n",
    "def getch(): \n",
    "    os.system(\"bash -c \\\"read -n 1\\\"\") \n",
    "getch()"
   ]
  },
  {
   "cell_type": "raw",
   "metadata": {},
   "source": [
    "2"
   ]
  },
  {
   "cell_type": "code",
   "execution_count": 8,
   "metadata": {
    "collapsed": false
   },
   "outputs": [
    {
     "data": {
      "text/plain": [
       "['Python Data Structures.ipynb\\n',\n",
       " 'Python Data.ipynb\\n',\n",
       " 'Python Geo processing.ipynb\\n',\n",
       " 'Python IO.ipynb\\n',\n",
       " 'Python Interface.ipynb\\n',\n",
       " 'Python Machine Learning.ipynb\\n',\n",
       " 'Python OS utility.ipynb\\n',\n",
       " 'Python XML.ipynb\\n',\n",
       " 'Python raw text.ipynb\\n',\n",
       " 'README.md\\n',\n",
       " 'data\\n',\n",
       " 'dev\\n',\n",
       " 'learning\\n']"
      ]
     },
     "execution_count": 8,
     "metadata": {},
     "output_type": "execute_result"
    }
   ],
   "source": [
    "#import msvcrt #for windows\n",
    "#os.popen() execute a script and return the output\n",
    "os.popen(\"ls\").readlines() "
   ]
  },
  {
   "cell_type": "code",
   "execution_count": 9,
   "metadata": {
    "collapsed": false
   },
   "outputs": [
    {
     "name": "stdout",
     "output_type": "stream",
     "text": [
      "<os._wrap_close object at 0x103e74860>\n"
     ]
    }
   ],
   "source": [
    "print(os.popen(\"ls\"))"
   ]
  },
  {
   "cell_type": "code",
   "execution_count": 11,
   "metadata": {
    "collapsed": false
   },
   "outputs": [
    {
     "data": {
      "text/plain": [
       "['__class__',\n",
       " '__delattr__',\n",
       " '__dict__',\n",
       " '__dir__',\n",
       " '__doc__',\n",
       " '__enter__',\n",
       " '__eq__',\n",
       " '__exit__',\n",
       " '__format__',\n",
       " '__ge__',\n",
       " '__getattr__',\n",
       " '__getattribute__',\n",
       " '__gt__',\n",
       " '__hash__',\n",
       " '__init__',\n",
       " '__iter__',\n",
       " '__le__',\n",
       " '__lt__',\n",
       " '__module__',\n",
       " '__ne__',\n",
       " '__new__',\n",
       " '__reduce__',\n",
       " '__reduce_ex__',\n",
       " '__repr__',\n",
       " '__setattr__',\n",
       " '__sizeof__',\n",
       " '__str__',\n",
       " '__subclasshook__',\n",
       " '__weakref__',\n",
       " '_proc',\n",
       " '_stream',\n",
       " 'close']"
      ]
     },
     "execution_count": 11,
     "metadata": {},
     "output_type": "execute_result"
    }
   ],
   "source": [
    "dir(os.popen(\"ls\"))"
   ]
  },
  {
   "cell_type": "code",
   "execution_count": 3,
   "metadata": {
    "collapsed": false
   },
   "outputs": [
    {
     "data": {
      "text/plain": [
       "0"
      ]
     },
     "execution_count": 3,
     "metadata": {},
     "output_type": "execute_result"
    }
   ],
   "source": [
    "#subprocess module for spawning \n",
    "os.system(\"touch xyz\")"
   ]
  },
  {
   "cell_type": "code",
   "execution_count": 5,
   "metadata": {
    "collapsed": false
   },
   "outputs": [],
   "source": [
    "import subprocess\n",
    "x = subprocess.Popen([\"touch\",\"xyz\"])"
   ]
  },
  {
   "cell_type": "code",
   "execution_count": 8,
   "metadata": {
    "collapsed": false
   },
   "outputs": [
    {
     "data": {
      "text/plain": [
       "0"
      ]
     },
     "execution_count": 8,
     "metadata": {},
     "output_type": "execute_result"
    }
   ],
   "source": [
    "x.poll()"
   ]
  },
  {
   "cell_type": "code",
   "execution_count": 9,
   "metadata": {
    "collapsed": false
   },
   "outputs": [
    {
     "data": {
      "text/plain": [
       "['__class__',\n",
       " '__del__',\n",
       " '__delattr__',\n",
       " '__dict__',\n",
       " '__dir__',\n",
       " '__doc__',\n",
       " '__enter__',\n",
       " '__eq__',\n",
       " '__exit__',\n",
       " '__format__',\n",
       " '__ge__',\n",
       " '__getattribute__',\n",
       " '__gt__',\n",
       " '__hash__',\n",
       " '__init__',\n",
       " '__le__',\n",
       " '__lt__',\n",
       " '__module__',\n",
       " '__ne__',\n",
       " '__new__',\n",
       " '__reduce__',\n",
       " '__reduce_ex__',\n",
       " '__repr__',\n",
       " '__setattr__',\n",
       " '__sizeof__',\n",
       " '__str__',\n",
       " '__subclasshook__',\n",
       " '__weakref__',\n",
       " '_check_timeout',\n",
       " '_child_created',\n",
       " '_closed_child_pipe_fds',\n",
       " '_communicate',\n",
       " '_communication_started',\n",
       " '_execute_child',\n",
       " '_get_devnull',\n",
       " '_get_handles',\n",
       " '_handle_exitstatus',\n",
       " '_input',\n",
       " '_internal_poll',\n",
       " '_remaining_time',\n",
       " '_save_input',\n",
       " '_stdin_write',\n",
       " '_translate_newlines',\n",
       " '_try_wait',\n",
       " '_waitpid_lock',\n",
       " 'args',\n",
       " 'communicate',\n",
       " 'kill',\n",
       " 'pid',\n",
       " 'poll',\n",
       " 'returncode',\n",
       " 'send_signal',\n",
       " 'stderr',\n",
       " 'stdin',\n",
       " 'stdout',\n",
       " 'terminate',\n",
       " 'universal_newlines',\n",
       " 'wait']"
      ]
     },
     "execution_count": 9,
     "metadata": {},
     "output_type": "execute_result"
    }
   ],
   "source": [
    "dir(x)"
   ]
  },
  {
   "cell_type": "code",
   "execution_count": 13,
   "metadata": {
    "collapsed": false
   },
   "outputs": [
    {
     "data": {
      "text/plain": [
       "['.DS_Store',\n",
       " 'example_csv.csv',\n",
       " 'example_kml.kml',\n",
       " 'example_modified.txt',\n",
       " 'example_output.csv',\n",
       " 'example_text.txt',\n",
       " 'feed.xml',\n",
       " 'pcw06_denoyer_mxdbg.ppt',\n",
       " 'xml_to_json.json']"
      ]
     },
     "execution_count": 13,
     "metadata": {},
     "output_type": "execute_result"
    }
   ],
   "source": [
    "os.listdir(\"data\")"
   ]
  },
  {
   "cell_type": "code",
   "execution_count": 3,
   "metadata": {
    "collapsed": false
   },
   "outputs": [],
   "source": [
    "#More for sys module\n",
    "#stdin --> Shell --->1) stdout 2)stderr   this process is known as pipe\n",
    "\n",
    "import sys\n",
    "x = sys.stdin.readline()"
   ]
  },
  {
   "cell_type": "code",
   "execution_count": 5,
   "metadata": {
    "collapsed": false
   },
   "outputs": [
    {
     "name": "stdout",
     "output_type": "stream",
     "text": [
      "\n"
     ]
    }
   ],
   "source": [
    "print(x)"
   ]
  },
  {
   "cell_type": "code",
   "execution_count": null,
   "metadata": {
    "collapsed": true
   },
   "outputs": [],
   "source": []
  }
 ],
 "metadata": {
  "kernelspec": {
   "display_name": "Python 3",
   "language": "python",
   "name": "python3"
  },
  "language_info": {
   "codemirror_mode": {
    "name": "ipython",
    "version": 3
   },
   "file_extension": ".py",
   "mimetype": "text/x-python",
   "name": "python",
   "nbconvert_exporter": "python",
   "pygments_lexer": "ipython3",
   "version": "3.5.1"
  }
 },
 "nbformat": 4,
 "nbformat_minor": 0
}
