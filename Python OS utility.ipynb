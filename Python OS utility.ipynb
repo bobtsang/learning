{
 "cells": [
  {
   "cell_type": "code",
   "execution_count": 1,
   "metadata": {
    "collapsed": true
   },
   "outputs": [],
   "source": [
    "#utility functions to make life easier\n",
    "import glob"
   ]
  },
  {
   "cell_type": "code",
   "execution_count": 9,
   "metadata": {
    "collapsed": false
   },
   "outputs": [
    {
     "name": "stdout",
     "output_type": "stream",
     "text": [
      "data/example_csv.csv\n",
      "data/example_kml.kml\n",
      "data/example_modified.txt\n",
      "data/example_output.csv\n",
      "data/example_text.txt\n",
      "data/feed.xml\n",
      "data/pcw06_denoyer_mxdbg.ppt\n",
      "data/xml_to_json.json\n"
     ]
    }
   ],
   "source": [
    "for name in glob.glob(\"data/*\"):\n",
    "    print(name)"
   ]
  },
  {
   "cell_type": "code",
   "execution_count": 10,
   "metadata": {
    "collapsed": false
   },
   "outputs": [
    {
     "name": "stdout",
     "output_type": "stream",
     "text": [
      "data/example_csv.csv\n",
      "data/example_output.csv\n"
     ]
    }
   ],
   "source": [
    "#single character wildcard\n",
    "for name in glob.glob(\"data/example*.csv\"):\n",
    "    print(name)"
   ]
  },
  {
   "cell_type": "code",
   "execution_count": 2,
   "metadata": {
    "collapsed": true
   },
   "outputs": [],
   "source": [
    "#monitor file changes in dir\n",
    "#SAS log analysis \n",
    "import watchdog\n",
    "#Python library and shell utilities to monitor filesystem events."
   ]
  },
  {
   "cell_type": "code",
   "execution_count": 5,
   "metadata": {
    "collapsed": false
   },
   "outputs": [],
   "source": [
    "#run following code in command line\n",
    "# import sys\n",
    "# import time\n",
    "# import logging\n",
    "# from watchdog.observers import Observer\n",
    "# from watchdog.events import LoggingEventHandler\n",
    "\n",
    "# if __name__ == \"__main__\":\n",
    "#     logging.basicConfig(level=logging.INFO,\n",
    "#                         format='%(asctime)s - %(message)s',\n",
    "#                         datefmt='%Y-%m-%d %H:%M:%S')\n",
    "#     path = sys.argv[1] if len(sys.argv) > 1 else '.'\n",
    "#     event_handler = LoggingEventHandler()\n",
    "#     observer = Observer()\n",
    "#     observer.schedule(event_handler, path, recursive=True)\n",
    "#     observer.start()\n",
    "#     try:\n",
    "#         while True:\n",
    "#             time.sleep(1)\n",
    "#     except KeyboardInterrupt:\n",
    "#         observer.stop()\n",
    "#     observer.join()"
   ]
  },
  {
   "cell_type": "code",
   "execution_count": 9,
   "metadata": {
    "collapsed": false
   },
   "outputs": [
    {
     "data": {
      "text/plain": [
       "'darwin'"
      ]
     },
     "execution_count": 9,
     "metadata": {},
     "output_type": "execute_result"
    }
   ],
   "source": [
    "import sys\n",
    "sys.platform"
   ]
  },
  {
   "cell_type": "code",
   "execution_count": 12,
   "metadata": {
    "collapsed": false
   },
   "outputs": [
    {
     "data": {
      "text/plain": [
       "['/Library/Frameworks/Python.framework/Versions/3.5/lib/python3.5/site-packages/ipykernel/__main__.py',\n",
       " '-f',\n",
       " '/Users/zhibozeng/Library/Jupyter/runtime/kernel-be88cc37-208b-4a5e-ae90-6d3c76eaa2f8.json']"
      ]
     },
     "execution_count": 12,
     "metadata": {},
     "output_type": "execute_result"
    }
   ],
   "source": [
    "sys.argv ##ipython notebook using the dir"
   ]
  },
  {
   "cell_type": "code",
   "execution_count": null,
   "metadata": {
    "collapsed": true
   },
   "outputs": [],
   "source": []
  }
 ],
 "metadata": {
  "kernelspec": {
   "display_name": "Python 3",
   "language": "python",
   "name": "python3"
  },
  "language_info": {
   "codemirror_mode": {
    "name": "ipython",
    "version": 3
   },
   "file_extension": ".py",
   "mimetype": "text/x-python",
   "name": "python",
   "nbconvert_exporter": "python",
   "pygments_lexer": "ipython3",
   "version": "3.5.1"
  }
 },
 "nbformat": 4,
 "nbformat_minor": 0
}
