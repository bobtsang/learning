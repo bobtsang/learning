{
 "cells": [
  {
   "cell_type": "code",
   "execution_count": 1,
   "metadata": {
    "collapsed": true
   },
   "outputs": [],
   "source": [
    "#utility functions to make life easier\n",
    "import glob"
   ]
  },
  {
   "cell_type": "code",
   "execution_count": 9,
   "metadata": {
    "collapsed": false
   },
   "outputs": [
    {
     "name": "stdout",
     "output_type": "stream",
     "text": [
      "data/example_csv.csv\n",
      "data/example_kml.kml\n",
      "data/example_modified.txt\n",
      "data/example_output.csv\n",
      "data/example_text.txt\n",
      "data/feed.xml\n",
      "data/pcw06_denoyer_mxdbg.ppt\n",
      "data/xml_to_json.json\n"
     ]
    }
   ],
   "source": [
    "for name in glob.glob(\"data/*\"):\n",
    "    print(name)"
   ]
  },
  {
   "cell_type": "code",
   "execution_count": 10,
   "metadata": {
    "collapsed": false
   },
   "outputs": [
    {
     "name": "stdout",
     "output_type": "stream",
     "text": [
      "data/example_csv.csv\n",
      "data/example_output.csv\n"
     ]
    }
   ],
   "source": [
    "#single character wildcard\n",
    "for name in glob.glob(\"data/example*.csv\"):\n",
    "    print(name)"
   ]
  },
  {
   "cell_type": "code",
   "execution_count": null,
   "metadata": {
    "collapsed": true
   },
   "outputs": [],
   "source": [
    "#monitor file changes in dir\n",
    "#SAS log analysis "
   ]
  }
 ],
 "metadata": {
  "kernelspec": {
   "display_name": "Python 3",
   "language": "python",
   "name": "python3"
  },
  "language_info": {
   "codemirror_mode": {
    "name": "ipython",
    "version": 3
   },
   "file_extension": ".py",
   "mimetype": "text/x-python",
   "name": "python",
   "nbconvert_exporter": "python",
   "pygments_lexer": "ipython3",
   "version": "3.5.1"
  }
 },
 "nbformat": 4,
 "nbformat_minor": 0
}
