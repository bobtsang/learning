{
 "cells": [
  {
   "cell_type": "code",
   "execution_count": 1,
   "metadata": {
    "collapsed": false
   },
   "outputs": [
    {
     "name": "stdout",
     "output_type": "stream",
     "text": [
      "From command line:t\n"
     ]
    }
   ],
   "source": [
    "#reading command line input\n",
    "x = input(\"From command line:\")"
   ]
  },
  {
   "cell_type": "code",
   "execution_count": 2,
   "metadata": {
    "collapsed": false
   },
   "outputs": [
    {
     "name": "stdout",
     "output_type": "stream",
     "text": [
      "t\n"
     ]
    }
   ],
   "source": [
    "print(x)"
   ]
  },
  {
   "cell_type": "code",
   "execution_count": 4,
   "metadata": {
    "collapsed": false
   },
   "outputs": [],
   "source": [
    "#External files\n",
    "#open(file_name,[,access_mode][,buffering])\n",
    "#access_mode: read/write/append\n",
    "#buffering:{0:no buffering},{1:buffering},[-1: the buffer size \n",
    "#.. is the system default]\n",
    "file_object = open(\"data/example.txt\",'r')"
   ]
  },
  {
   "cell_type": "code",
   "execution_count": 5,
   "metadata": {
    "collapsed": false
   },
   "outputs": [
    {
     "name": "stdout",
     "output_type": "stream",
     "text": [
      "data/example.txt\n",
      "r\n"
     ]
    }
   ],
   "source": [
    "print(file_object.name)\n",
    "print(file_object.mode)"
   ]
  },
  {
   "cell_type": "code",
   "execution_count": 6,
   "metadata": {
    "collapsed": false
   },
   "outputs": [
    {
     "data": {
      "text/plain": [
       "'exampel text stream2\\nexampel text stream3\\nexampel text stream4\\nexampel text stream5\\nexampel text stream6\\nexampel text stream1\\nexampel text stream7\\nexampel text stream8\\nexampel text stream9\\nexampel text stream10\\n'"
      ]
     },
     "execution_count": 6,
     "metadata": {},
     "output_type": "execute_result"
    }
   ],
   "source": [
    "#close():flushes any unwritten information and close file object\n",
    "file_object.read()"
   ]
  },
  {
   "cell_type": "code",
   "execution_count": 8,
   "metadata": {
    "collapsed": false
   },
   "outputs": [],
   "source": [
    "file_object.close()"
   ]
  },
  {
   "cell_type": "code",
   "execution_count": 10,
   "metadata": {
    "collapsed": false
   },
   "outputs": [],
   "source": [
    "#rename \n",
    "import os\n",
    "os.rename(\"data/example.txt\",\"example_modified.txt\")\n",
    "os.mkdir(\"dev\")"
   ]
  },
  {
   "cell_type": "code",
   "execution_count": 11,
   "metadata": {
    "collapsed": false
   },
   "outputs": [
    {
     "data": {
      "text/plain": [
       "'/Users/zhibozeng/Desktop/github-learning'"
      ]
     },
     "execution_count": 11,
     "metadata": {},
     "output_type": "execute_result"
    }
   ],
   "source": [
    "os.getcwd()"
   ]
  },
  {
   "cell_type": "code",
   "execution_count": 7,
   "metadata": {
    "collapsed": false
   },
   "outputs": [
    {
     "name": "stdout",
     "output_type": "stream",
     "text": [
      "['col1,col2']\n",
      "1\n",
      "col1,col2\n"
     ]
    }
   ],
   "source": [
    "#read in csv\n",
    "import csv\n",
    "with open('data/example_csv.csv',newline='') as csvfile:\n",
    "    reader = csv.reader(csvfile,delimiter = ' ',quotechar = '|')\n",
    "    x=0\n",
    "    for row in reader:\n",
    "        if x==0:\n",
    "            print(row)\n",
    "            print(len(row))\n",
    "            print(','.join(row))\n",
    "            x = x + 1"
   ]
  },
  {
   "cell_type": "code",
   "execution_count": 14,
   "metadata": {
    "collapsed": true
   },
   "outputs": [],
   "source": [
    "with open('data/example_output.csv','w') as csvfile:\n",
    "    field_names =[\"col1\",\"col2\"]\n",
    "    writer = csv.DictWriter(csvfile,fieldnames = field_names)\n",
    "    writer.writeheader()\n",
    "    writer.writerow({'col1':'val1','col2':'val2'})"
   ]
  },
  {
   "cell_type": "code",
   "execution_count": 18,
   "metadata": {
    "collapsed": false
   },
   "outputs": [],
   "source": [
    "with open('data/example_text.txt','w') as textfile:\n",
    "    for i in range(3):\n",
    "        textfile.write(\"This is example:\" + str(i))\n",
    "        example_dict = dict([(i,bytes(i))])\n",
    "        textfile.write(str(example_dict))"
   ]
  },
  {
   "cell_type": "code",
   "execution_count": null,
   "metadata": {
    "collapsed": true
   },
   "outputs": [],
   "source": []
  }
 ],
 "metadata": {
  "kernelspec": {
   "display_name": "Python 3",
   "language": "python",
   "name": "python3"
  },
  "language_info": {
   "codemirror_mode": {
    "name": "ipython",
    "version": 3
   },
   "file_extension": ".py",
   "mimetype": "text/x-python",
   "name": "python",
   "nbconvert_exporter": "python",
   "pygments_lexer": "ipython3",
   "version": "3.5.1"
  }
 },
 "nbformat": 4,
 "nbformat_minor": 0
}
